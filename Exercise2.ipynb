{
 "cells": [
  {
   "cell_type": "code",
   "execution_count": 28,
   "id": "c54ee7e0",
   "metadata": {},
   "outputs": [
    {
     "name": "stdin",
     "output_type": "stream",
     "text": [
      "Give the number of rows: 2\n",
      "Give the number of columns: 2\n"
     ]
    },
    {
     "name": "stdout",
     "output_type": "stream",
     "text": [
      "Please give the entries of matrix1 row-wise:\n"
     ]
    },
    {
     "name": "stdin",
     "output_type": "stream",
     "text": [
      " 1\n",
      " 2\n",
      " 3\n",
      " 4\n"
     ]
    },
    {
     "name": "stdout",
     "output_type": "stream",
     "text": [
      "1 2 \n",
      "3 4 \n"
     ]
    },
    {
     "name": "stdin",
     "output_type": "stream",
     "text": [
      "Give the number of rows: 2\n",
      "Give the number of columns: 2\n"
     ]
    },
    {
     "name": "stdout",
     "output_type": "stream",
     "text": [
      "Please give the entries of matrix 2 row-wise:\n"
     ]
    },
    {
     "name": "stdin",
     "output_type": "stream",
     "text": [
      " 2\n",
      " 3\n",
      " 4\n",
      " 5\n"
     ]
    },
    {
     "name": "stdout",
     "output_type": "stream",
     "text": [
      "2 3 \n",
      "4 5 \n",
      "dot product \n",
      " [[10 13]\n",
      " [22 29]]\n"
     ]
    }
   ],
   "source": [
    "#dot product\n",
    "\n",
    "import numpy as np\n",
    "\n",
    "Rows = int(input(\"Give the number of rows:\"))  \n",
    "Columns = int(input(\"Give the number of columns:\"))  \n",
    "   \n",
    "mat1 = []  \n",
    "print(\"Please give the entries of matrix1 row-wise:\")  \n",
    "  \n",
    "# For user input  \n",
    "for x in range(Rows):\n",
    "    r = []  \n",
    "    for y in range(Columns): \n",
    "        r.append(int(input()))  \n",
    "    mat1.append(r)  \n",
    "\n",
    "\n",
    "for x in range(Rows):  \n",
    "    for y in range(Columns):  \n",
    "        print(mat1[x][y], end=\" \")  \n",
    "    print()  \n",
    "\n",
    "\n",
    "Rows= int(input(\"Give the number of rows:\"))  \n",
    "Columns= int(input(\"Give the number of columns:\"))  \n",
    "   \n",
    "mat2 = []  \n",
    "print(\"Please give the entries of matrix 2 row-wise:\")  \n",
    "  \n",
    "# For user input  \n",
    "for x in range(Rows):\n",
    "    r = []  \n",
    "    for y in range(Columns): \n",
    "        r.append(int(input()))  \n",
    "    mat2.append(r)  \n",
    "\n",
    "\n",
    "for x in range(Rows):  \n",
    "    for y in range(Columns):  \n",
    "        print(mat2[x][y], end=\" \")  \n",
    "    print()  \n",
    "\n",
    "\n",
    "res = np.dot(mat1,mat2)\n",
    " \n",
    "print(\"dot product \\n\",res)\n"
   ]
  },
  {
   "cell_type": "code",
   "execution_count": 21,
   "id": "0fefbe74",
   "metadata": {},
   "outputs": [
    {
     "name": "stdin",
     "output_type": "stream",
     "text": [
      "Give the number of rows: 2\n",
      "Give the number of columns: 2\n"
     ]
    },
    {
     "name": "stdout",
     "output_type": "stream",
     "text": [
      "Please give the entries of matrix1 row-wise:\n"
     ]
    },
    {
     "name": "stdin",
     "output_type": "stream",
     "text": [
      " 6\n",
      " 9\n",
      " 5\n",
      " 8\n"
     ]
    },
    {
     "name": "stdout",
     "output_type": "stream",
     "text": [
      "6 9 \n",
      "5 8 \n",
      "transpose \n",
      " [[6 5]\n",
      " [9 8]]\n"
     ]
    }
   ],
   "source": [
    "#transpose\n",
    "\n",
    "Rows = int(input(\"Give the number of rows:\"))  \n",
    "Columns = int(input(\"Give the number of columns:\"))  \n",
    "   \n",
    "mat = []  \n",
    "print(\"Please give the entries of matrix1 row-wise:\")  \n",
    "  \n",
    "# For user input  \n",
    "for x in range(Rows):\n",
    "    r = []  \n",
    "    for y in range(Columns): \n",
    "        r.append(int(input()))  \n",
    "    mat.append(r)  \n",
    "\n",
    "\n",
    "for x in range(Rows):  \n",
    "    for y in range(Columns):  \n",
    "        print(mat[x][y], end\n",
    "              =\" \")  \n",
    "    print()  \n",
    "\n",
    "              \n",
    "result = np.transpose(mat)\n",
    "    \n",
    "print(\"transpose \\n\",result)\n",
    "\n",
    "\n"
   ]
  },
  {
   "cell_type": "code",
   "execution_count": 22,
   "id": "ee27e699",
   "metadata": {},
   "outputs": [
    {
     "name": "stdin",
     "output_type": "stream",
     "text": [
      "Give the number of rows: 2\n",
      "Give the number of columns: 2\n"
     ]
    },
    {
     "name": "stdout",
     "output_type": "stream",
     "text": [
      "Please give the entries of matrix1 row-wise:\n"
     ]
    },
    {
     "name": "stdin",
     "output_type": "stream",
     "text": [
      " 3\n",
      " 6\n",
      " 9\n",
      " 8\n"
     ]
    },
    {
     "name": "stdout",
     "output_type": "stream",
     "text": [
      "3 6 \n",
      "9 8 \n",
      "trace \n",
      "  11\n"
     ]
    }
   ],
   "source": [
    "#trace\n",
    "\n",
    "Rows = int(input(\"Give the number of rows:\"))  \n",
    "Columns = int(input(\"Give the number of columns:\"))  \n",
    "   \n",
    "mat = []  \n",
    "print(\"Please give the entries of matrix1 row-wise:\")  \n",
    "  \n",
    "# For user input  \n",
    "for x in range(Rows):\n",
    "    r = []  \n",
    "    for y in range(Columns): \n",
    "        r.append(int(input()))  \n",
    "    mat.append(r)  \n",
    "\n",
    "\n",
    "for x in range(Rows):  \n",
    "    for y in range(Columns):  \n",
    "        print(mat[x][y], end=\" \")  \n",
    "    print()  \n",
    "\n",
    "              \n",
    "result = np.trace(mat)\n",
    "    \n",
    "print(\"trace \\n \",result)"
   ]
  },
  {
   "cell_type": "code",
   "execution_count": 23,
   "id": "afcaeabe",
   "metadata": {},
   "outputs": [
    {
     "name": "stdin",
     "output_type": "stream",
     "text": [
      "Give the number of rows: 2\n",
      "Give the number of columns: 2\n"
     ]
    },
    {
     "name": "stdout",
     "output_type": "stream",
     "text": [
      "Please give the entries of matrix1 row-wise:\n"
     ]
    },
    {
     "name": "stdin",
     "output_type": "stream",
     "text": [
      " 4\n",
      " 6\n",
      " 8\n",
      " 9\n"
     ]
    },
    {
     "name": "stdout",
     "output_type": "stream",
     "text": [
      "4 6 \n",
      "8 9 \n",
      "Rank of matrix \n",
      " 2\n"
     ]
    }
   ],
   "source": [
    "#rank\n",
    "\n",
    "Rows = int(input(\"Give the number of rows:\"))  \n",
    "Columns = int(input(\"Give the number of columns:\"))  \n",
    "   \n",
    "mat = []  \n",
    "print(\"Please give the entries of matrix1 row-wise:\")  \n",
    "  \n",
    "# For user input  \n",
    "for x in range(Rows):\n",
    "    r = []  \n",
    "    for y in range(Columns): \n",
    "        r.append(int(input()))  \n",
    "    mat.append(r)  \n",
    "\n",
    "\n",
    "for x in range(Rows):  \n",
    "    for y in range(Columns):  \n",
    "        print(mat[x][y], end=\" \")  \n",
    "    print()  \n",
    "\n",
    "              \n",
    "result = np.linalg.matrix_rank(mat)\n",
    "    \n",
    "print(\"Rank of matrix \\n\" ,result)"
   ]
  },
  {
   "cell_type": "code",
   "execution_count": 33,
   "id": "f2b8ebcc",
   "metadata": {},
   "outputs": [
    {
     "name": "stdin",
     "output_type": "stream",
     "text": [
      "Give the number of rows: 2\n",
      "Give the number of columns: 2\n"
     ]
    },
    {
     "name": "stdout",
     "output_type": "stream",
     "text": [
      "Please give the entries of matrix1 row-wise:\n"
     ]
    },
    {
     "name": "stdin",
     "output_type": "stream",
     "text": [
      " 5\n",
      " 6\n",
      " 7\n",
      " 8\n"
     ]
    },
    {
     "name": "stdout",
     "output_type": "stream",
     "text": [
      "5 6 \n",
      "7 8 \n",
      "Determinant of matrix \n",
      " -1.999999999999999\n"
     ]
    }
   ],
   "source": [
    "#determinant\n",
    "\n",
    "Rows = int(input(\"Give the number of rows:\"))  \n",
    "Columns = int(input(\"Give the number of columns:\"))  \n",
    "   \n",
    "mat = []  \n",
    "print(\"Please give the entries of matrix1 row-wise:\")  \n",
    "  \n",
    "# For user input  \n",
    "for x in range(Rows):\n",
    "    r = []  \n",
    "    for y in range(Columns): \n",
    "        r.append(int(input()))  \n",
    "    mat.append(r)  \n",
    "\n",
    "\n",
    "for x in range(Rows):  \n",
    "    for y in range(Columns):  \n",
    "        print(mat[x][y], end=\" \")  \n",
    "    print()  \n",
    "\n",
    "              \n",
    "result = np.linalg.det(mat)\n",
    "    \n",
    "print(\"Determinant of matrix \\n\" ,result)\n"
   ]
  },
  {
   "cell_type": "code",
   "execution_count": 26,
   "id": "f62e4139",
   "metadata": {},
   "outputs": [
    {
     "name": "stdin",
     "output_type": "stream",
     "text": [
      "Give the number of rows: 2\n",
      "Give the number of columns: 2\n"
     ]
    },
    {
     "name": "stdout",
     "output_type": "stream",
     "text": [
      "Please give the entries of matrix1 row-wise:\n"
     ]
    },
    {
     "name": "stdin",
     "output_type": "stream",
     "text": [
      " 4\n",
      " 3\n",
      " 6\n",
      " 2\n"
     ]
    },
    {
     "name": "stdout",
     "output_type": "stream",
     "text": [
      "4 3 \n",
      "6 2 \n",
      "Inverse of matrix \n",
      " [[-0.2  0.3]\n",
      " [ 0.6 -0.4]]\n"
     ]
    }
   ],
   "source": [
    "#inverse\n",
    "\n",
    "Rows = int(input(\"Give the number of rows:\"))  \n",
    "Columns = int(input(\"Give the number of columns:\"))  \n",
    "   \n",
    "mat = []  \n",
    "print(\"Please give the entries of matrix1 row-wise:\")  \n",
    "  \n",
    "# For user input  \n",
    "for x in range(Rows):\n",
    "    r = []  \n",
    "    for y in range(Columns): \n",
    "        r.append(int(input()))  \n",
    "    mat.append(r)  \n",
    "\n",
    "\n",
    "for x in range(Rows):  \n",
    "    for y in range(Columns):  \n",
    "        print(mat[x][y], end=\" \")  \n",
    "    print()  \n",
    "\n",
    "              \n",
    "result =np.linalg.inv(mat)\n",
    "    \n",
    "print(\"Inverse of matrix \\n\" ,result)"
   ]
  },
  {
   "cell_type": "code",
   "execution_count": 36,
   "id": "8952edf8",
   "metadata": {},
   "outputs": [
    {
     "name": "stdin",
     "output_type": "stream",
     "text": [
      "Give the number of rows: 2\n",
      "Give the number of columns: 2\n"
     ]
    },
    {
     "name": "stdout",
     "output_type": "stream",
     "text": [
      "Please give the entries of matrix1 row-wise:\n"
     ]
    },
    {
     "name": "stdin",
     "output_type": "stream",
     "text": [
      " 2\n",
      " 4\n",
      " 6\n",
      " 8\n"
     ]
    },
    {
     "name": "stdout",
     "output_type": "stream",
     "text": [
      "2 4 \n",
      "6 8 \n"
     ]
    },
    {
     "name": "stdin",
     "output_type": "stream",
     "text": [
      "Give the number of rows: 2\n",
      "Give the number of columns: 2\n"
     ]
    },
    {
     "name": "stdout",
     "output_type": "stream",
     "text": [
      "Please give the entries of matrix 2 row-wise:\n"
     ]
    },
    {
     "name": "stdin",
     "output_type": "stream",
     "text": [
      " 3\n",
      " 6\n",
      " 9\n",
      " 5\n"
     ]
    },
    {
     "name": "stdout",
     "output_type": "stream",
     "text": [
      "3 6 \n",
      "9 5 \n",
      "Printing the Eigen values of mat1\n",
      " [-0.74456265 10.74456265]\n",
      "Printing Right eigenvectors of mat1\n",
      " [[-0.82456484 -0.41597356]\n",
      " [ 0.56576746 -0.90937671]]\n",
      "Printing the Eigen values of mat2\n",
      " [-3.41619849 11.41619849]\n",
      "Printing Right eigenvectors of mat2\n",
      " [[-0.68302051 -0.58049671]\n",
      " [ 0.73039919 -0.81426259]]\n"
     ]
    }
   ],
   "source": [
    "#eigen values\n",
    "\n",
    "Rows = int(input(\"Give the number of rows:\"))  \n",
    "Columns = int(input(\"Give the number of columns:\"))  \n",
    "   \n",
    "mat1 = []  \n",
    "print(\"Please give the entries of matrix1 row-wise:\")  \n",
    "  \n",
    "# For user input  \n",
    "for x in range(Rows):\n",
    "    r = []  \n",
    "    for y in range(Columns): \n",
    "        r.append(int(input()))  \n",
    "    mat1.append(r)  \n",
    "\n",
    "\n",
    "for x in range(Rows):  \n",
    "    for y in range(Columns):  \n",
    "        print(mat1[x][y], end=\" \")  \n",
    "    print()  \n",
    "\n",
    "\n",
    "Rows= int(input(\"Give the number of rows:\"))  \n",
    "Columns= int(input(\"Give the number of columns:\"))  \n",
    "   \n",
    "mat2 = []  \n",
    "print(\"Please give the entries of matrix 2 row-wise:\")  \n",
    "  \n",
    "# For user input  \n",
    "for x in range(Rows):\n",
    "    r = []  \n",
    "    for y in range(Columns): \n",
    "        r.append(int(input()))  \n",
    "    mat2.append(r)  \n",
    "\n",
    "\n",
    "for x in range(Rows):  \n",
    "    for y in range(Columns):  \n",
    "        print(mat2[x][y], end=\" \")  \n",
    "    print()  \n",
    "\n",
    "\n",
    "w, v = np.linalg.eig(mat1)\n",
    "\n",
    "print(\"Printing the Eigen values of mat1\\n\", w)\n",
    "print(\"Printing Right eigenvectors of mat1\\n\",v)\n",
    "\n",
    "w, v = np.linalg.eig(mat2)\n",
    "\n",
    "\n",
    "print(\"Printing the Eigen values of mat2\\n\", w)\n",
    "print(\"Printing Right eigenvectors of mat2\\n\",v)\n",
    "\n"
   ]
  },
  {
   "cell_type": "code",
   "execution_count": null,
   "id": "31e057c8",
   "metadata": {},
   "outputs": [],
   "source": []
  }
 ],
 "metadata": {
  "kernelspec": {
   "display_name": "Python 3",
   "language": "python",
   "name": "python3"
  },
  "language_info": {
   "codemirror_mode": {
    "name": "ipython",
    "version": 3
   },
   "file_extension": ".py",
   "mimetype": "text/x-python",
   "name": "python",
   "nbconvert_exporter": "python",
   "pygments_lexer": "ipython3",
   "version": "3.5.6"
  }
 },
 "nbformat": 4,
 "nbformat_minor": 5
}
